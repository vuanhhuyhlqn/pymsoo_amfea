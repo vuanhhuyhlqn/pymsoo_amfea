{
 "cells": [
  {
   "cell_type": "code",
   "execution_count": 2,
   "metadata": {},
   "outputs": [
    {
     "name": "stdout",
     "output_type": "stream",
     "text": [
      "random percent: 0\n",
      "random percent: 0\n",
      "I am using the MFEA algorithm to optimize several different tasks. Help me generate 4 different guide lines to construct a Random Mating Probability (RMP) matrix using the following information:\n",
      "You are given the following input information:\n",
      "- 'task_count': The number of tasks.\n",
      "- 'pop_mean': A matrix of shape (task_count, indi_len), where each row represents the mean vector of the population for each task. It describes the average position of individuals in the search space per task.\n",
      "- 'pop_variance': A matrix of shape (task_count, indi_len), where each row represents the per-dimension variance of individuals in the population of each task. It describes the spread or diversity within each task.\n",
      "Each guide line should:\n",
      "- Use these statistics to assess **the similarity or difference between tasks** in terms of distribution in the search space.\n",
      "- Propose how RMP values between task pairs should be adjusted accordingly.\n",
      "- Be logically sound, non-trivial, and varied in perspective or criteria.\n",
      "- Avoid overly simple rules or generic statements.\n",
      "Output must be a valid JSON object in the following format: {{ \"strategy\": [ \"guide line 1\", \"guide line 2\", \"guide line 3\", \"guide line 4\" ] }}.\n",
      "Do not number the guide lines. Follow the format and do not give any further explain.\n"
     ]
    }
   ],
   "source": [
    "from pyMSOO.MFEA.model import EBSGA\n",
    "from pyMSOO.utils.Crossover import *\n",
    "from pyMSOO.utils.Mutation import *\n",
    "from pyMSOO.utils.Selection import *\n",
    "from pyMSOO.utils.DimensionAwareStrategy import *\n",
    "from pyMSOO.MFEA.benchmark.continous import *\n",
    "from pyMSOO.utils.MultiRun.RunMultiTime import * "
   ]
  },
  {
   "cell_type": "code",
   "execution_count": null,
   "metadata": {},
   "outputs": [],
   "source": [
    "# tasks, IndClass = CEC17_benchmark.get_2tasks_benchmark(1)\n",
    "# tasks, IndClass = WCCI22_benchmark.get_complex_benchmark(10)\n",
    "# tasks, IndClass = CEC17_benchmark.get_10tasks_benchmark()\n",
    "# tasks, IndClass = WCCI22_benchmark.get_50tasks_benchmark(10)"
   ]
  },
  {
   "cell_type": "code",
   "execution_count": null,
   "metadata": {},
   "outputs": [],
   "source": []
  },
  {
   "cell_type": "code",
   "execution_count": 30,
   "metadata": {},
   "outputs": [
    {
     "name": "stdout",
     "output_type": "stream",
     "text": [
      "6\n",
      "random percent: 0\n",
      "Seed: None -- Time: 00m 39.12s  100 % [====================>]  Cost: 1.99E+01  7.08E+00  ,  \n",
      "END!\n",
      "7\n",
      "random percent: 0\n",
      "Seed: None -- Time: 00m 5.76s  100 % [====================>]  Cost: 1.68E+02  2.91E+02  ,  \n",
      "END!\n",
      "8\n",
      "random percent: 0\n",
      "Seed: None -- Time: 00m 34.66s  100 % [====================>]  Cost: 8.73E-01  9.99E+00  ,  \n",
      "END!\n",
      "9\n",
      "random percent: 0\n",
      "Seed: None -- Time: 00m 7.67s  100 % [====================>]  Cost: 4.62E+02  1.90E+03  ,  \n",
      "END!\n"
     ]
    }
   ],
   "source": [
    "for task_id in range(6, 10):\n",
    "\ttasks, IndClass = CEC17_benchmark.get_2tasks_benchmark(task_id)\n",
    "\tprint(task_id)\n",
    "\tbaseModel = EBSGA.model()\n",
    "\tbaseModel.compile(\n",
    "\t\tIndClass= IndClass,\n",
    "\t\ttasks= tasks,\n",
    "\t\t# crossover = KL_SBXCrossover(nc= 2, k= 100, conf_thres= 1),\n",
    "\t\tcrossover= SBX_Crossover(nc = 2),\n",
    "\t\t# crossover= DaS_SBX_Crossover(),\n",
    "\t\tmutation= PolynomialMutation(nm = 5),\n",
    "\t\tselection= ElitismSelection(),\n",
    "\t\tdimension_strategy=DaS_strategy()\n",
    "\t)\n",
    "\tsolve = baseModel.fit(\n",
    "\t\tnb_generations = 1000, rmp = 0.5, nb_inds_each_task= 100, \n",
    "\t\tbound_pop= [0, 1], evaluate_initial_skillFactor= True\n",
    "\t)"
   ]
  },
  {
   "cell_type": "code",
   "execution_count": 13,
   "metadata": {},
   "outputs": [
    {
     "name": "stdout",
     "output_type": "stream",
     "text": [
      "[  400.61088373  8600.44584968 34100.19061824  2800.98891715\n",
      " 50700.28690991 51700.47682907  9200.02933727 25800.62270897\n",
      "  5500.25796834  5300.86942351]\n"
     ]
    }
   ],
   "source": [
    "print(baseModel.E_o)"
   ]
  },
  {
   "cell_type": "code",
   "execution_count": 14,
   "metadata": {},
   "outputs": [
    {
     "name": "stdout",
     "output_type": "stream",
     "text": [
      "[99600.30166858 91400.67259289 65900.61639903 97200.42926958\n",
      " 49300.31473667 48300.57184309 90800.85700004 74200.51303286\n",
      " 94500.86276064 94700.38377208]\n"
     ]
    }
   ],
   "source": [
    "print(baseModel.E_s)"
   ]
  },
  {
   "cell_type": "code",
   "execution_count": 15,
   "metadata": {},
   "outputs": [
    {
     "name": "stdout",
     "output_type": "stream",
     "text": [
      "[7.63748708e-04 2.76160980e+00 1.22892904e+02 4.87282264e-01\n",
      " 1.47961228e+02 1.61597834e+02 3.38629898e+00 2.44903782e+01\n",
      " 7.83520225e-01 6.71900903e-01]\n"
     ]
    }
   ],
   "source": [
    "print(baseModel.R_o)"
   ]
  },
  {
   "cell_type": "code",
   "execution_count": 16,
   "metadata": {},
   "outputs": [
    {
     "name": "stdout",
     "output_type": "stream",
     "text": [
      "[398.01677263 358.12751851 343.43680909 586.76149418 174.84695876\n",
      " 198.02340429 389.61030147 315.44693615 456.33065522 283.48025755]\n"
     ]
    }
   ],
   "source": [
    "print(baseModel.R_s)"
   ]
  },
  {
   "cell_type": "code",
   "execution_count": null,
   "metadata": {},
   "outputs": [],
   "source": []
  }
 ],
 "metadata": {
  "kernelspec": {
   "display_name": "Python 3",
   "language": "python",
   "name": "python3"
  },
  "language_info": {
   "codemirror_mode": {
    "name": "ipython",
    "version": 3
   },
   "file_extension": ".py",
   "mimetype": "text/x-python",
   "name": "python",
   "nbconvert_exporter": "python",
   "pygments_lexer": "ipython3",
   "version": "3.9.12"
  },
  "orig_nbformat": 4
 },
 "nbformat": 4,
 "nbformat_minor": 2
}
