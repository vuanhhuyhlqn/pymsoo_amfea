{
 "cells": [
  {
   "attachments": {},
   "cell_type": "markdown",
   "metadata": {},
   "source": [
    "# Import"
   ]
  },
  {
   "cell_type": "code",
   "execution_count": 3,
   "metadata": {},
   "outputs": [],
   "source": [
    "import numpy as np\n",
    "import pandas as pd\n",
    "\n",
    "from pyMSOO.MFEA.model import SM_MFEA\n",
    "from pyMSOO.utils.Crossover import *\n",
    "from pyMSOO.utils.Mutation import *\n",
    "from pyMSOO.utils.Selection import *\n",
    "from pyMSOO.utils.DimensionAwareStrategy import DaS_strategy\n",
    "\n",
    "from pyMSOO.utils.EA import * \n",
    "from pyMSOO.MFEA.benchmark.continous.CEC17 import CEC17_benchmark \n",
    "from pyMSOO.MFEA.benchmark.continous.WCCI22 import WCCI22_benchmark\n",
    "\n",
    "from pyMSOO.utils.MultiRun.RunMultiTime import * \n",
    "from pyMSOO.utils.MultiRun.RunMultiBenchmark import * "
   ]
  },
  {
   "attachments": {},
   "cell_type": "markdown",
   "metadata": {},
   "source": [
    "# Run"
   ]
  },
  {
   "cell_type": "code",
   "execution_count": 4,
   "metadata": {},
   "outputs": [],
   "source": [
    "# tasks, IndClass = CEC17_benchmark.get_2tasks_benchmark(1)\n",
    "# tasks, IndClass = WCCI22_benchmark.get_complex_benchmark(1)\n",
    "tasks, IndClass = CEC17_benchmark.get_10tasks_benchmark()"
   ]
  },
  {
   "attachments": {},
   "cell_type": "markdown",
   "metadata": {},
   "source": [
    "1 time"
   ]
  },
  {
   "cell_type": "code",
   "execution_count": 5,
   "metadata": {},
   "outputs": [
    {
     "name": "stdout",
     "output_type": "stream",
     "text": [
      "Seed: None -- Time: 01m 1.11s  100 % [====================>]  Pop_size: 1.90E+02  ,  Cost: 3.17E-26  2.91E-26  0.00E+00  0.00E+00  4.71E+01  4.66E-14  0.00E+00  3.61E+03  0.00E+00  2.29E+01  ,  \n",
      "[0.1 0.1 0.1 0.1 0.1 0.1 0.1 0.1 0.1 0.1]\n",
      "[100186, 99830, 100086, 100426, 99258, 100392, 99936, 100036, 100104, 99776]\n",
      "END!\n"
     ]
    }
   ],
   "source": [
    "SM_SBX = SM_MFEA.model()\n",
    "SM_SBX.compile(\n",
    "    IndClass= IndClass,\n",
    "    tasks= tasks,\n",
    "    crossover= SBX_Crossover(nc = 2),\n",
    "    mutation= PolynomialMutation(nm = 5),\n",
    ")\n",
    "solve = SM_SBX.fit(\n",
    "    nb_generations= 1000, nb_inds_each_task= 100, nb_inds_min= 20,\n",
    "    lr = 0.1, mu=0.1,\n",
    "    evaluate_initial_skillFactor= True\n",
    ")"
   ]
  },
  {
   "cell_type": "code",
   "execution_count": 6,
   "metadata": {},
   "outputs": [
    {
     "name": "stdout",
     "output_type": "stream",
     "text": [
      "Seed: None -- Time: 01m 5.41s  100 % [====================>]  Pop_size: 1.90E+02  ,  Cost: 7.92E-22  1.62E-26  0.00E+00  0.00E+00  3.16E-12  4.66E-14  0.00E+00  6.36E-04  0.00E+00  0.00E+00  ,  \n",
      "[0.1 0.1 0.1 0.1 0.1 0.1 0.1 0.1 0.1 0.1]\n",
      "[99410, 100600, 100286, 99782, 99918, 99838, 100090, 99686, 100082, 100338]\n",
      "END!\n"
     ]
    }
   ],
   "source": [
    "SM_KL_SBX = SM_MFEA.model()\n",
    "SM_KL_SBX.compile(\n",
    "    IndClass= IndClass,\n",
    "    tasks= tasks,\n",
    "    crossover= DaS_SBX_Crossover(nc = 2),\n",
    "    mutation= PolynomialMutation(nm = 5),\n",
    ")\n",
    "solve = SM_KL_SBX.fit(\n",
    "    nb_generations= 1000, nb_inds_each_task= 100, nb_inds_min= 20,\n",
    "    lr = 0.1, mu=0.1,\n",
    "    evaluate_initial_skillFactor= True\n",
    ")"
   ]
  },
  {
   "cell_type": "code",
   "execution_count": 6,
   "metadata": {},
   "outputs": [
    {
     "data": {
      "text/plain": [
       "array([0.91604249, 0.91256795, 0.98857103, 0.98516035, 0.90975089,\n",
       "       0.02      , 0.98846469, 0.02      , 0.91484108, 0.98705149,\n",
       "       0.98765445, 0.99364588, 0.98835255, 0.90767182, 0.9122587 ,\n",
       "       0.98786872, 0.02      , 0.91195157, 0.98551478, 0.9144308 ,\n",
       "       0.98633307, 0.91234604, 0.91421428, 0.91185109, 0.91353229,\n",
       "       0.02      , 0.02      , 0.02      , 0.02      , 0.02      ,\n",
       "       0.02      , 0.02      , 0.02      , 0.02      , 0.02      ,\n",
       "       0.02      , 0.02      , 0.02      , 0.02      , 0.02      ,\n",
       "       0.02      , 0.02      , 0.02      , 0.02      , 0.02      ,\n",
       "       0.02      , 0.02      , 0.02      , 0.02      , 0.02      ])"
      ]
     },
     "execution_count": 6,
     "metadata": {},
     "output_type": "execute_result"
    }
   ],
   "source": [
    "SM_KL_SBX.crossover.prob[9][1]"
   ]
  },
  {
   "cell_type": "code",
   "execution_count": 4,
   "metadata": {},
   "outputs": [
    {
     "name": "stdout",
     "output_type": "stream",
     "text": [
      "Seed: None -- Time: 01m 27.88s  100 % [====================>]  Pop_size: 1.90E+02  ,  Cost: 3.78E-26  2.10E-26  0.00E+00  0.00E+00  3.44E-18  4.31E-14  0.00E+00  6.36E-04  0.00E+00  0.00E+00  ,  \n",
      "[0.1 0.1 0.1 0.1 0.1 0.1 0.1 0.1 0.1 0.1]\n",
      "[101250, 99582, 100268, 99958, 100364, 99826, 99378, 99214, 99756, 100434]\n",
      "END!\n"
     ]
    }
   ],
   "source": [
    "SM_DaS = SM_MFEA.model()\n",
    "SM_DaS.compile(\n",
    "    IndClass= IndClass,\n",
    "    tasks= tasks,\n",
    "    crossover= SBX_Crossover(nc = 2),\n",
    "    mutation= PolynomialMutation(nm = 5),\n",
    "    dimension_strategy= DaS_strategy(eta= 3)\n",
    ")\n",
    "solve = SM_DaS.fit(\n",
    "    nb_generations= 1000, nb_inds_each_task= 100, nb_inds_min= 20,\n",
    "    lr = 0.1, mu=0.1,\n",
    "    evaluate_initial_skillFactor= True\n",
    ")"
   ]
  },
  {
   "cell_type": "code",
   "execution_count": null,
   "metadata": {},
   "outputs": [],
   "source": []
  }
 ],
 "metadata": {
  "kernelspec": {
   "display_name": "Python 3",
   "language": "python",
   "name": "python3"
  },
  "language_info": {
   "codemirror_mode": {
    "name": "ipython",
    "version": 3
   },
   "file_extension": ".py",
   "mimetype": "text/x-python",
   "name": "python",
   "nbconvert_exporter": "python",
   "pygments_lexer": "ipython3",
   "version": "3.9.12"
  },
  "orig_nbformat": 4
 },
 "nbformat": 4,
 "nbformat_minor": 2
}
