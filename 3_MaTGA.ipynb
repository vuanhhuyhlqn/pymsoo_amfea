{
 "cells": [
  {
   "cell_type": "code",
   "execution_count": 2,
   "metadata": {},
   "outputs": [
    {
     "name": "stdout",
     "output_type": "stream",
     "text": [
      "random percent: 0\n",
      "random percent: 0\n",
      "I am using the MFEA algorithm to optimize several different tasks. Help me generate 4 different guide lines to construct a Random Mating Probability (RMP) matrix using the following information:\n",
      "You are given the following input information:\n",
      "- 'task_count': The number of tasks.\n",
      "- 'pop_mean': A matrix of shape (task_count, indi_len), where each row represents the mean vector of the population for each task. It describes the average position of individuals in the search space per task.\n",
      "- 'pop_variance': A matrix of shape (task_count, indi_len), where each row represents the per-dimension variance of individuals in the population of each task. It describes the spread or diversity within each task.\n",
      "Each guide line should:\n",
      "- Use these statistics to assess **the similarity or difference between tasks** in terms of distribution in the search space.\n",
      "- Propose how RMP values between task pairs should be adjusted accordingly.\n",
      "- Be logically sound, non-trivial, and varied in perspective or criteria.\n",
      "- Avoid overly simple rules or generic statements.\n",
      "Output must be a valid JSON object in the following format: {{ \"strategy\": [ \"guide line 1\", \"guide line 2\", \"guide line 3\", \"guide line 4\" ] }}.\n",
      "Do not number the guide lines. Follow the format and do not give any further explain.\n"
     ]
    }
   ],
   "source": [
    "from pyMSOO.MFEA.model import MaTGA\n",
    "from pyMSOO.utils.Crossover import *\n",
    "from pyMSOO.utils.Mutation import *\n",
    "from pyMSOO.utils.Selection import *\n",
    "from pyMSOO.utils.DimensionAwareStrategy import *\n",
    "from pyMSOO.MFEA.benchmark.continous import *\n",
    "from pyMSOO.utils.MultiRun.RunMultiTime import * "
   ]
  },
  {
   "attachments": {},
   "cell_type": "markdown",
   "metadata": {},
   "source": [
    "#### Benchmark"
   ]
  },
  {
   "attachments": {},
   "cell_type": "markdown",
   "metadata": {},
   "source": [
    "##### CEC17"
   ]
  },
  {
   "cell_type": "code",
   "execution_count": null,
   "metadata": {},
   "outputs": [
    {
     "name": "stdout",
     "output_type": "stream",
     "text": [
      "random percent: 0\n",
      "Checking...\r"
     ]
    },
    {
     "name": "stdout",
     "output_type": "stream",
     "text": [
      "Seed: 25 -- Time: 00m 6.04s  100 % [====================>]  Cost: 1.48E+02  2.01E+03  ,  \n",
      "END!\n"
     ]
    }
   ],
   "source": [
    "tasks, IndClass = CEC17_benchmark.get_2tasks_benchmark(9)\n",
    "# tasks, IndClass = WCCI22_benchmark.get_complex_benchmark(10)\n",
    "# tasks, IndClass = CEC17_benchmark.get_10tasks_benchmark()\n",
    "# tasks, IndClass = WCCI22_benchmark.get_50tasks_benchmark(10)\n",
    "baseModel = MaTGA.model(seed = 25)\n",
    "baseModel.compile(\n",
    "    IndClass= IndClass,\n",
    "    tasks= tasks,\n",
    "    # crossover = KL_SBXCrossover(nc= 2, k= 100, conf_thres= 1),\n",
    "    crossover= SBX_Crossover(nc = 2),\n",
    "    mutation= PolynomialMutation(nm = 5),\n",
    "    selection= ElitismSelection(),\n",
    "    dimension_strategy=DaS_strategy(eta=3)\n",
    ")\n",
    "solve = baseModel.fit(\n",
    "    nb_generations = 1000, rmp = 0.1, nb_inds_each_task= 100, \n",
    "    bound_pop= [0, 1], evaluate_initial_skillFactor= True\n",
    ")"
   ]
  },
  {
   "attachments": {},
   "cell_type": "markdown",
   "metadata": {},
   "source": [
    "### Multitime model"
   ]
  },
  {
   "cell_type": "code",
   "execution_count": 4,
   "metadata": {},
   "outputs": [],
   "source": [
    "baseModel = MultiTimeModel(model= MaTGA)\n",
    "baseModel.compile(\n",
    "    IndClass= IndClass,\n",
    "    tasks= tasks,\n",
    "    crossover= SBX_Crossover(nc = 2),\n",
    "    mutation= PolynomialMutation(nm = 5),\n",
    "    selection= ElitismSelection(),\n",
    "    dimension_strategy=DaS_strategy(eta= 3)\n",
    ")\n",
    "baseModel.fit(\n",
    "    nb_generations = 1000, rmp = 0.1, nb_inds_each_task= 100, \n",
    "    bound_pop= [0, 1], evaluate_initial_skillFactor= True\n",
    ")"
   ]
  },
  {
   "cell_type": "code",
   "execution_count": 9,
   "metadata": {},
   "outputs": [
    {
     "name": "stdout",
     "output_type": "stream",
     "text": [
      "Seed: 0 -- Time: 02m 15.02s  100 % [====================>]  Cost: 4.23E-05  8.45E-10  2.02E-11  3.00E-11  4.16E-03  8.40E-06  7.77E-04  1.63E-03  1.13E-05  3.11E+01  ,  \n",
      "END!\n",
      "Seed: 1 -- Time: 02m 29.28s  100 % [====================>]  Cost: 5.87E-06  1.39E-09  1.93E-12  2.89E-11  4.07E-04  1.03E-05  3.64E-04  1.47E-03  1.19E-05  3.95E+01  ,  \n",
      "END!\n",
      "Seed: 2 -- Time: 02m 17.29s  100 % [====================>]  Cost: 8.48E-06  1.56E-10  3.18E-11  1.93E-12  4.94E-04  3.65E-06  1.03E-03  1.53E-03  8.82E-06  4.08E+01  ,  \n",
      "END!\n",
      "Seed: 3 -- Time: 02m 21.81s  100 % [====================>]  Cost: 5.02E-06  8.77E-10  2.49E-12  1.67E-09  3.14E-04  8.87E-06  4.62E-04  1.76E-03  1.66E-05  4.66E+01  ,  \n",
      "END!\n",
      "Seed: 4 -- Time: 02m 6.43s  100 % [====================>]  Cost: 4.42E-06  1.52E-09  6.30E-12  8.28E-11  3.95E-04  1.05E-05  5.77E-04  8.31E-04  9.61E-06  4.13E+01  ,  \n",
      "END!\n",
      "Seed: 5 -- Time: 02m 17.94s  100 % [====================>]  Cost: 9.20E-07  3.17E-09  3.10E-12  5.29E-11  5.52E-05  1.72E-05  3.97E-04  3.47E-03  1.53E-05  4.35E+01  ,  \n",
      "END!\n",
      "Seed: 6 -- Time: 02m 4.91s  100 % [====================>]  Cost: 1.29E-05  1.51E-09  2.27E-11  4.36E-11  6.36E-04  1.14E-05  7.83E-04  1.44E-03  2.12E-05  3.87E+01  ,  \n",
      "END!\n",
      "Seed: 7 -- Time: 02m 5.35s  100 % [====================>]  Cost: 6.53E-05  3.02E-10  4.53E-12  7.75E-09  4.97E-03  4.83E-06  5.21E-04  1.28E-03  5.47E-06  3.59E+01  ,  \n",
      "END!\n",
      "Seed: 8 -- Time: 02m 3.24s  100 % [====================>]  Cost: 5.88E-06  7.23E-10  2.47E-11  2.35E-11  3.70E-04  6.90E-06  8.06E-04  1.22E-03  9.88E-03  4.15E+01  ,  \n",
      "END!\n",
      "Seed: 9 -- Time: 02m 7.23s  100 % [====================>]  Cost: 6.68E-06  1.80E-10  4.08E-11  4.04E-12  5.45E-04  3.52E-06  1.14E-03  1.67E-03  1.97E-05  4.00E+01  ,  \n",
      "END!\n",
      "Seed: 10 -- Time: 02m 17.08s  100 % [====================>]  Cost: 6.50E-05  1.72E-09  1.03E-11  1.74E-10  4.14E-03  1.18E-05  7.17E-04  1.85E-03  9.98E-06  4.60E+01  ,  \n",
      "END!\n",
      "Seed: 11 -- Time: 02m 4.60s  100 % [====================>]  Cost: 4.13E-06  4.66E-09  1.88E-12  1.01E-10  3.08E-04  1.84E-05  4.01E-04  1.27E-03  1.17E-05  3.78E+01  ,  \n",
      "END!\n",
      "Seed: 12 -- Time: 02m 12.54s  100 % [====================>]  Cost: 1.42E-06  1.40E-09  1.09E-11  1.84E-11  1.09E-04  1.05E-05  6.30E-04  1.62E-03  1.37E-05  3.61E+01  ,  \n",
      "END!\n",
      "Seed: 13 -- Time: 02m 24.27s  100 % [====================>]  Cost: 7.88E-06  3.50E-09  1.38E-12  6.13E-12  7.00E-04  1.61E-05  3.52E-04  1.33E-03  1.20E-05  3.28E+01  ,  \n",
      "END!\n",
      "Seed: 14 -- Time: 02m 24.07s  100 % [====================>]  Cost: 1.12E-05  4.99E-10  1.45E-12  4.45E-11  9.48E-04  6.15E-06  3.60E-04  1.50E-03  8.43E-06  4.61E+01  ,  \n",
      "END!\n",
      "Seed: 15 -- Time: 02m 9.65s  100 % [====================>]  Cost: 3.90E-05  5.43E-10  7.60E-12  2.01E-11  2.52E-03  6.34E-06  6.87E-04  1.59E-03  7.27E-06  4.41E+01  ,  \n",
      "END!\n",
      "Seed: 16 -- Time: 02m 14.13s  100 % [====================>]  Cost: 1.03E-05  2.14E-10  5.09E-11  8.98E-11  6.57E-04  4.11E-06  9.59E-04  8.28E-04  1.53E-05  4.40E+01  ,  \n",
      "END!\n",
      "Seed: 17 -- Time: 02m 5.07s  100 % [====================>]  Cost: 2.90E-05  2.23E-10  1.53E-11  1.86E-11  2.28E-03  4.17E-06  7.70E-04  1.24E-03  1.64E-05  3.00E+01  ,  \n",
      "END!\n",
      "Seed: 18 -- Time: 02m 7.35s  100 % [====================>]  Cost: 4.70E-06  2.02E-09  4.20E-12  2.98E-12  3.67E-04  1.24E-05  4.67E-04  9.71E-04  2.20E-05  4.74E+01  ,  \n",
      "END!\n",
      "Seed: 19 -- Time: 02m 11.94s  100 % [====================>]  Cost: 6.86E-07  1.32E-10  1.39E-12  1.23E-08  6.25E-05  3.75E-06  3.15E-04  1.91E-03  1.28E-05  3.14E+01  ,  \n",
      "END!\n",
      "Seed: 20 -- Time: 02m 4.88s  100 % [====================>]  Cost: 3.09E-06  3.68E-10  6.16E-12  3.55E-12  2.42E-04  5.35E-06  5.15E-04  1.00E-03  5.20E-06  3.98E+01  ,  \n",
      "END!\n",
      "Seed: 21 -- Time: 02m 2.68s  100 % [====================>]  Cost: 1.86E-06  4.71E-10  9.58E-12  4.39E-12  1.61E-04  6.10E-06  6.10E-04  1.18E+02  2.69E-05  4.43E+01  ,  \n",
      "END!\n",
      "Seed: 22 -- Time: 02m 7.84s  100 % [====================>]  Cost: 2.41E-05  5.78E-10  8.16E-11  2.21E-11  1.23E-03  6.77E-06  8.99E-04  1.36E-03  9.22E-06  2.93E+01  ,  \n",
      "END!\n",
      "Seed: 23 -- Time: 02m 7.78s  100 % [====================>]  Cost: 1.42E-06  8.24E-10  6.14E-13  5.88E-12  1.33E-04  8.19E-06  2.69E-04  9.33E-04  8.76E-06  3.25E+01  ,  \n",
      "END!\n",
      "Seed: 24 -- Time: 02m 0.22s  100 % [====================>]  Cost: 1.55E-05  2.52E-10  1.15E-11  6.77E-12  1.37E-03  4.45E-06  7.66E-04  1.08E-03  8.03E-06  2.49E+01  ,  \n",
      "END!\n",
      "Seed: 25 -- Time: 02m 3.32s  100 % [====================>]  Cost: 5.18E-06  1.69E-10  1.92E-12  1.29E-11  4.67E-04  3.75E-06  3.80E-04  1.32E-03  7.41E-03  3.74E+01  ,  \n",
      "END!\n",
      "Seed: 26 -- Time: 02m 4.76s  100 % [====================>]  Cost: 2.63E-05  1.53E-10  2.13E-12  1.31E-11  1.59E-03  3.35E-06  3.77E-04  1.88E-03  1.52E-05  4.46E+01  ,  \n",
      "END!\n",
      "Seed: 27 -- Time: 02m 2.95s  100 % [====================>]  Cost: 8.09E-06  9.33E-09  1.32E-13  3.93E-11  6.60E-04  2.79E-05  1.42E-04  1.19E-03  2.24E-05  2.01E+01  ,  \n",
      "END!\n",
      "Seed: 28 -- Time: 02m 6.28s  100 % [====================>]  Cost: 1.17E-04  1.19E-09  6.97E-13  1.18E-11  1.11E-02  9.55E-06  2.64E-04  1.20E-03  9.55E-06  4.35E+01  ,  \n",
      "END!\n",
      "Seed: 29 -- Time: 02m 4.97s  100 % [====================>]  Cost: 5.76E-06  5.73E-10  1.28E-10  2.91E-11  3.24E-04  6.68E-06  1.70E-03  1.08E-03  1.79E-05  4.12E+01  ,  \n",
      "END!\n",
      "DONE!\n",
      "Done\n"
     ]
    }
   ],
   "source": [
    "baseModel.run(\n",
    "    nb_run= 30,\n",
    "    save_path= './RESULTS/MaTGA_cec17.mso'\n",
    ")"
   ]
  },
  {
   "cell_type": "code",
   "execution_count": 11,
   "metadata": {},
   "outputs": [
    {
     "name": "stdout",
     "output_type": "stream",
     "text": [
      "Error when create object DictType. Using Temp class instead\n",
      "Error when create object UnicodeType. Using Temp class instead\n",
      "Error when create object Float. Using Temp class instead\n",
      "Error when create object Tuple. Using Temp class instead\n",
      "Error when create object UnionType. Using Temp class instead\n",
      "Error while create instance model for <class 'pyMSOO.utils.EA.Population'>. Using Temp class instead\n",
      "Error while create instance model for <class 'pyMSOO.utils.EA.SubPopulation'>. Using Temp class instead\n"
     ]
    }
   ],
   "source": [
    "from pyMSOO.utils.LoadSaveModel.LoadModel import loadModel\n",
    "\n",
    "baseModel = loadModel('./RESULTS/MaTGA_cec17.mso', ls_tasks= tasks, set_attribute= True)"
   ]
  },
  {
   "cell_type": "code",
   "execution_count": null,
   "metadata": {},
   "outputs": [],
   "source": [
    "baseModel.render_history()\n",
    "print()"
   ]
  }
 ],
 "metadata": {
  "kernelspec": {
   "display_name": "Python 3",
   "language": "python",
   "name": "python3"
  },
  "language_info": {
   "codemirror_mode": {
    "name": "ipython",
    "version": 3
   },
   "file_extension": ".py",
   "mimetype": "text/x-python",
   "name": "python",
   "nbconvert_exporter": "python",
   "pygments_lexer": "ipython3",
   "version": "3.9.12"
  },
  "orig_nbformat": 4
 },
 "nbformat": 4,
 "nbformat_minor": 2
}
