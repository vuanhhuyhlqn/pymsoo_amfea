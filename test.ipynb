{
 "cells": [
  {
   "cell_type": "code",
   "execution_count": 1,
   "id": "7fbc1549",
   "metadata": {},
   "outputs": [],
   "source": [
    "%load_ext autoreload\n",
    "%autoreload 2\n",
    "from pyMSOO.MFEA.model import MFEA_base\n",
    "from pyMSOO.utils.Crossover import *\n",
    "from pyMSOO.utils.Mutation import *\n",
    "from pyMSOO.utils.Selection import *\n",
    "from pyMSOO.MFEA.benchmark.continous import *\n",
    "from pyMSOO.utils.MultiRun.RunMultiTime import * \n",
    "import pickle"
   ]
  },
  {
   "cell_type": "code",
   "execution_count": 2,
   "id": "bf552d58",
   "metadata": {},
   "outputs": [],
   "source": [
    "from pyMSOO.MFEA.benchmark.continous.funcs import Griewank"
   ]
  },
  {
   "cell_type": "code",
   "execution_count": 8,
   "id": "987eaa3c",
   "metadata": {},
   "outputs": [],
   "source": [
    "dim = 2\n",
    "griewank = Griewank(dim)\n",
    "bound = 50\n",
    "x = np.array([1, 1])"
   ]
  },
  {
   "cell_type": "code",
   "execution_count": 9,
   "id": "48b4fc3d",
   "metadata": {},
   "outputs": [
    {
     "name": "stdout",
     "output_type": "stream",
     "text": [
      "[1 2]\n",
      "0.0005\n"
     ]
    },
    {
     "data": {
      "text/plain": [
       "0.5897380911762422"
      ]
     },
     "execution_count": 9,
     "metadata": {},
     "output_type": "execute_result"
    }
   ],
   "source": [
    "griewank(x)"
   ]
  },
  {
   "cell_type": "code",
   "execution_count": 32,
   "id": "53cf7b8d",
   "metadata": {},
   "outputs": [
    {
     "data": {
      "text/plain": [
       "array([1, 1])"
      ]
     },
     "execution_count": 32,
     "metadata": {},
     "output_type": "execute_result"
    }
   ],
   "source": [
    "x"
   ]
  },
  {
   "cell_type": "code",
   "execution_count": 20,
   "id": "883f8d28",
   "metadata": {},
   "outputs": [
    {
     "data": {
      "text/plain": [
       "0.5897380911762422"
      ]
     },
     "execution_count": 20,
     "metadata": {},
     "output_type": "execute_result"
    }
   ],
   "source": [
    "griewank(x)"
   ]
  },
  {
   "cell_type": "code",
   "execution_count": 2,
   "id": "f7f20328",
   "metadata": {},
   "outputs": [
    {
     "ename": "NameError",
     "evalue": "name 'x' is not defined",
     "output_type": "error",
     "traceback": [
      "\u001b[1;31m---------------------------------------------------------------------------\u001b[0m",
      "\u001b[1;31mNameError\u001b[0m                                 Traceback (most recent call last)",
      "Cell \u001b[1;32mIn[2], line 2\u001b[0m\n\u001b[0;32m      1\u001b[0m \u001b[38;5;28;01mwith\u001b[39;00m \u001b[38;5;28mopen\u001b[39m(\u001b[38;5;124m'\u001b[39m\u001b[38;5;124mx.pkl\u001b[39m\u001b[38;5;124m'\u001b[39m, \u001b[38;5;124m'\u001b[39m\u001b[38;5;124mwb\u001b[39m\u001b[38;5;124m'\u001b[39m) \u001b[38;5;28;01mas\u001b[39;00m f:  \u001b[38;5;66;03m# open a text file\u001b[39;00m\n\u001b[1;32m----> 2\u001b[0m     pickle\u001b[38;5;241m.\u001b[39mdump(\u001b[43mx\u001b[49m, f) \u001b[38;5;66;03m# serialize the list\u001b[39;00m\n\u001b[0;32m      3\u001b[0m f\u001b[38;5;241m.\u001b[39mclose()\n",
      "\u001b[1;31mNameError\u001b[0m: name 'x' is not defined"
     ]
    }
   ],
   "source": [
    "with open('x.pkl', 'wb') as f:  # open a text file\n",
    "    pickle.dump(x, f) # serialize the list\n",
    "f.close()"
   ]
  },
  {
   "cell_type": "code",
   "execution_count": 14,
   "id": "151c6af3",
   "metadata": {},
   "outputs": [],
   "source": [
    "from pyMSOO.MFEA.benchmark.continous.funcs import Ackley"
   ]
  },
  {
   "cell_type": "code",
   "execution_count": 15,
   "id": "44e29140",
   "metadata": {},
   "outputs": [],
   "source": [
    "super_tasks = CEC17_benchmark.get_10tasks_benchmark()"
   ]
  },
  {
   "cell_type": "code",
   "execution_count": 3,
   "id": "5fa7e71c",
   "metadata": {},
   "outputs": [
    {
     "name": "stdout",
     "output_type": "stream",
     "text": [
      "[0.85907482 0.94008339 0.50785754 0.72509466 0.06625432 0.66633294\n",
      " 0.74234832 0.90374985 0.23927356 0.32128177 0.31552997 0.67909715\n",
      " 0.43332934 0.98120044 0.2745511  0.60376838 0.85184482 0.19065958\n",
      " 0.6426098  0.40787485 0.20654012 0.13219135 0.41308363 0.54744061\n",
      " 0.57048436 0.42555876 0.19406744 0.27179178 0.297762   0.11140318\n",
      " 0.45006828 0.16531338 0.92069788 0.88879073 0.44608596 0.23528611\n",
      " 0.58133187 0.71235906 0.17826929 0.45866792 0.01148249 0.91859941\n",
      " 0.35862434 0.36346905 0.90740653 0.8934829  0.99067995 0.27788791\n",
      " 0.08522302 0.15000237]\n"
     ]
    }
   ],
   "source": [
    "with open('x_test.pkl','rb') as f:\n",
    "    x_test = pickle.load(f)\n",
    "\n",
    "print(x_test)"
   ]
  },
  {
   "cell_type": "code",
   "execution_count": 4,
   "id": "78130ef8",
   "metadata": {},
   "outputs": [],
   "source": [
    "from pyMSOO.MFEA.benchmark.continous.funcs import *"
   ]
  },
  {
   "cell_type": "code",
   "execution_count": 5,
   "id": "81a0eacd",
   "metadata": {},
   "outputs": [],
   "source": [
    "tasks = [\n",
    "        Sphere(     50,shift= 0,    bound= [-100, 100]),   # 0\n",
    "        Sphere(     50,shift= 80,   bound= [-100, 100]),  # 80\n",
    "        Sphere(     50,shift= -80,  bound= [-100, 100]), # -80\n",
    "        Weierstrass(25,shift= -0.4, bound= [-0.5, 0.5]), # -0.4\n",
    "        Rosenbrock( 50,shift= -1,   bound= [-50, 50]),# 0\n",
    "        Ackley(     50,shift= 40,   bound= [-50, 50]),    # 40\n",
    "        Weierstrass(50,shift= -0.4, bound= [-0.5, 0.5]), # -0.4\n",
    "        Schwefel(   50,shift= 0,    bound= [-500, 500], fixed = False), # 420.9687\n",
    "        Griewank(   50,shift= [-80, 80], bound= [-100, 100]), # -80, 80\n",
    "        Rastrigin(  50,shift= [40, -40], bound= [-50, 50]),# -40, 40\n",
    "        ]"
   ]
  },
  {
   "cell_type": "code",
   "execution_count": 6,
   "id": "b914ce10",
   "metadata": {},
   "outputs": [
    {
     "name": "stdout",
     "output_type": "stream",
     "text": [
      "165305.0500415824\n",
      "500797.2655241336\n",
      "469812.83455903106\n",
      "52.41419772668738\n",
      "5980077333.781868\n",
      "21.637249102506384\n",
      "96.75042619986894\n",
      "18339.884641225744\n",
      "137.74422260305982\n",
      "106369.76081990033\n"
     ]
    }
   ],
   "source": [
    "for task in tasks:\n",
    "    print(task(x_test))"
   ]
  },
  {
   "cell_type": "markdown",
   "id": "87a00353",
   "metadata": {},
   "source": [
    "[164653.77602241]\n",
    "[506484.7290924]\n",
    "[462822.82295242]\n",
    "[51.62977499]\n",
    "[5.66607615e+09]\n",
    "[21.61071135]\n",
    "[99.04091139]\n",
    "[21553.29522811]\n",
    "[109.39305966]\n",
    "[134383.12832027]"
   ]
  }
 ],
 "metadata": {
  "kernelspec": {
   "display_name": "Python 3",
   "language": "python",
   "name": "python3"
  },
  "language_info": {
   "codemirror_mode": {
    "name": "ipython",
    "version": 3
   },
   "file_extension": ".py",
   "mimetype": "text/x-python",
   "name": "python",
   "nbconvert_exporter": "python",
   "pygments_lexer": "ipython3",
   "version": "3.9.12"
  }
 },
 "nbformat": 4,
 "nbformat_minor": 5
}
